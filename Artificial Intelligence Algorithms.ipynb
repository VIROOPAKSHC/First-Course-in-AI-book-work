{
 "cells": [
  {
   "cell_type": "markdown",
   "id": "d7884a12",
   "metadata": {},
   "source": [
    "#### First chapter is an introduction. Algorithms are introduced from chapter-2"
   ]
  },
  {
   "cell_type": "markdown",
   "id": "1691cba4",
   "metadata": {},
   "source": [
    "###### Chapter-2 : State Space search\n",
    " The problem of <b>River Crossing</b>: Man, Goat,Lion and Cabbage with a boat of capacity not more than 2 objects are in a situation to cross the river using the boat. Man drives the boat and carries either of the object with him. But in the absence of the Man, the Goat eats the cabbage or the Lion devours the Goat. We would like to reach the opposite side without any damage to the state. <br>\n",
    "Algorithms to generate the possible sequence states of the given state and to check if the given state is the goal state can be devised as follows. <br>"
   ]
  },
  {
   "cell_type": "code",
   "execution_count": 51,
   "id": "9fce0633",
   "metadata": {},
   "outputs": [
    {
     "name": "stdout",
     "output_type": "stream",
     "text": [
      "[['M', 'G'], ['L', 'C']] possible next moves are :  [[['G'], ['L', 'C', 'M']], [[], ['L', 'C', 'M', 'G']]]\n",
      "Goal Reached from : [['M', 'G'], ['L', 'C']]\n",
      "Goal : [[], ['L', 'C', 'M', 'G']]\n",
      "False\n"
     ]
    }
   ],
   "source": [
    "class RiverCrossing:\n",
    "    def __init__(self):\n",
    "        pass\n",
    "    \n",
    "    def check_validity(self,state):\n",
    "        if len(state[0])+len(state[1])==4:\n",
    "            d={val:0 for val in [\"M\",\"C\",\"L\",\"G\"]}\n",
    "            for val in state[0]+state[1]:\n",
    "                d[val]=1\n",
    "            return sum(d.values())==4\n",
    "        return False\n",
    "\n",
    "    def MoveGen(self,CurrentState):\n",
    "        \"\"\"\n",
    "        Given current state is expected to be a list of length 2 with values on left and right. String values\n",
    "        \"\"\"\n",
    "        if not(check_validity(CurrentState)):\n",
    "            print(\"Give Valid state\")\n",
    "            return []\n",
    "        States=[]\n",
    "        L,R=copy.deepcopy(CurrentState)\n",
    "        side=L if \"M\" in L else R\n",
    "        ind=1 if \"M\" in L else 0\n",
    "        for val in side:\n",
    "            newstate=copy.deepcopy(CurrentState)\n",
    "            newstate[(ind+1)%2].remove(\"M\")\n",
    "            newstate[ind].append(\"M\")\n",
    "            if val!=\"M\":\n",
    "                newstate[(ind+1)%2].remove(val)\n",
    "                newstate[ind].append(val)\n",
    "            States.append(newstate)\n",
    "        return States\n",
    "\n",
    "    def GoalTest(self,state):\n",
    "        if not(check_validity(state)):\n",
    "            print(\"Give Valid state\")\n",
    "            return []\n",
    "        if (sorted([\"M\",\"L\",\"C\",\"G\"]) == sorted(state[1])) and len(state[0])==0: \n",
    "            return True\n",
    "        return False\n",
    "\n",
    "river=RiverCrossing()\n",
    "currentstate=[['M' ,'G'], ['L','C']]\n",
    "print(currentstate, \"possible next moves are : \",river.MoveGen(currentstate))\n",
    "\n",
    "for move in river.MoveGen(currentstate):\n",
    "    if river.GoalTest(move):\n",
    "        print(\"Goal Reached from :\",currentstate)\n",
    "        print(\"Goal :\",move)\n",
    "\n",
    "print(river.check_validity([[\"M\",\"M\",\"L\"],[\"G\"]]))"
   ]
  },
  {
   "cell_type": "markdown",
   "id": "99e607a0",
   "metadata": {},
   "source": [
    "##### Simple Search algorithms"
   ]
  },
  {
   "cell_type": "code",
   "execution_count": 56,
   "id": "57d193ee",
   "metadata": {},
   "outputs": [],
   "source": [
    "d={}\n"
   ]
  },
  {
   "cell_type": "code",
   "execution_count": 54,
   "id": "1e197ad5",
   "metadata": {},
   "outputs": [],
   "source": [
    "def SimpleSearch1(start,graph):\n",
    "    OPEN=[start]\n",
    "    while len(OPEN):\n",
    "        node=OPEN.pop(0)\n",
    "        if GoalReached(node,graph):\n",
    "            return node\n",
    "        else:\n",
    "            OPEN=list(set(OPEN).union(set(neighbours(node,graph))))\n",
    "    return -1\n",
    "\n",
    "# The above algorithm is prone to getting caught up in an infinity loop\n",
    "\n",
    "def SimpleSearch2(start,graph):\n",
    "    visited={start:True}\n",
    "    OPEN=[start]\n",
    "    CLOSED=[]\n",
    "    while len(OPEN):\n",
    "        node=OPEN.pop(0)\n",
    "        if GoalReached(node,graph):\n",
    "            return node\n",
    "        else:\n",
    "            visited[node]=True\n",
    "            UpdateClosed(visited,CLOSED)\n",
    "            OPEN=list(set(OPEN).union(set(neighbours(node,graph))-set(CLOSED)))\n",
    "    return -1"
   ]
  },
  {
   "cell_type": "code",
   "execution_count": null,
   "id": "08cff1b7",
   "metadata": {},
   "outputs": [],
   "source": []
  }
 ],
 "metadata": {
  "kernelspec": {
   "display_name": "Python 3 (ipykernel)",
   "language": "python",
   "name": "python3"
  },
  "language_info": {
   "codemirror_mode": {
    "name": "ipython",
    "version": 3
   },
   "file_extension": ".py",
   "mimetype": "text/x-python",
   "name": "python",
   "nbconvert_exporter": "python",
   "pygments_lexer": "ipython3",
   "version": "3.10.9"
  }
 },
 "nbformat": 4,
 "nbformat_minor": 5
}
